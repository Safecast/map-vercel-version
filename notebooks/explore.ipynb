{
 "cells": [
  {
   "cell_type": "code",
   "execution_count": null,
   "metadata": {},
   "outputs": [],
   "source": [
    "import requests\n",
    "import pandas"
   ]
  },
  {
   "cell_type": "code",
   "execution_count": null,
   "metadata": {},
   "outputs": [],
   "source": [
    "# write a python function that loads a JSON from a URL and returns a pandas dataframe\n",
    "def load_json(url):\n",
    "    response = requests.get(url)\n",
    "    data = response.json()\n",
    "    df = pandas.DataFrame(data)\n",
    "    return df\n",
    "\n",
    "df = load_json(\"https://tt.safecast.org/devices\")"
   ]
  },
  {
   "cell_type": "code",
   "execution_count": null,
   "metadata": {},
   "outputs": [],
   "source": [
    "df"
   ]
  },
  {
   "cell_type": "code",
   "execution_count": null,
   "metadata": {},
   "outputs": [],
   "source": [
    "df.device_class.value_counts()"
   ]
  },
  {
   "cell_type": "code",
   "execution_count": null,
   "metadata": {},
   "outputs": [],
   "source": [
    "url = 'https://tt.safecast.org/devices?template=\"{\"device_urn\":\"\",\"loc_name\":\"\",\"loc_country\":\"\",\"device_sn\":\"\",\"device_contact_name\":\"\",\"device_contact_email\":\"\",\"device\":0,\"when_captured\":\"\",\"env_temp\":0.0,\"env_humid\":0.0,\"env_press\":0.0,\"bat_voltage\":0.0,\"lnd_7318c\":0.0,\"pms_pm02_5\":0.0,\"pms_aqi\":0.0,\"dev_temp\":0.0,\"dev_orientation\":\"\",\"dev_dashboard\":\"\"}\"'\n",
    "response = requests.get(url)\n",
    "response.text"
   ]
  }
 ],
 "metadata": {
  "kernelspec": {
   "display_name": "safecast",
   "language": "python",
   "name": "python3"
  },
  "language_info": {
   "codemirror_mode": {
    "name": "ipython",
    "version": 3
   },
   "file_extension": ".py",
   "mimetype": "text/x-python",
   "name": "python",
   "nbconvert_exporter": "python",
   "pygments_lexer": "ipython3",
   "version": "3.10.13"
  }
 },
 "nbformat": 4,
 "nbformat_minor": 2
}
